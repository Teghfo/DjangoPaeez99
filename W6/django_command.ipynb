{
 "cells": [
  {
   "cell_type": "code",
   "execution_count": 2,
   "metadata": {},
   "outputs": [],
   "source": [
    "from user_profile.models import Profile, Address\n",
    "from django.contrib.auth import get_user_model \n",
    "from restaurant.models import Element, MenuCat, Supplier, Account, Product, ElementAddress, Food"
   ]
  },
  {
   "cell_type": "code",
   "execution_count": 2,
   "metadata": {},
   "outputs": [],
   "source": [
    "qs = User.objects.all().filter(username='kh')"
   ]
  },
  {
   "cell_type": "code",
   "execution_count": 3,
   "metadata": {},
   "outputs": [
    {
     "name": "stdout",
     "output_type": "stream",
     "text": [
      "SELECT \"auth_user\".\"id\", \"auth_user\".\"password\", \"auth_user\".\"last_login\", \"auth_user\".\"is_superuser\", \"auth_user\".\"username\", \"auth_user\".\"first_name\", \"auth_user\".\"last_name\", \"auth_user\".\"email\", \"auth_user\".\"is_staff\", \"auth_user\".\"is_active\", \"auth_user\".\"date_joined\" FROM \"auth_user\" WHERE \"auth_user\".\"username\" = kh\n"
     ]
    }
   ],
   "source": [
    "print(qs.query)"
   ]
  },
  {
   "cell_type": "code",
   "execution_count": 16,
   "metadata": {},
   "outputs": [],
   "source": [
    "a = Article.objects.all()"
   ]
  },
  {
   "cell_type": "code",
   "execution_count": 17,
   "metadata": {},
   "outputs": [
    {
     "name": "stdout",
     "output_type": "stream",
     "text": [
      "ملا قاسم\n",
      "ملا اکبر\n"
     ]
    }
   ],
   "source": [
    "for e in a:\n",
    "    print(e.author.name)"
   ]
  },
  {
   "cell_type": "code",
   "execution_count": 11,
   "metadata": {},
   "outputs": [],
   "source": [
    "a_sr = Article.objects.select_related('author').get(id = 1) "
   ]
  },
  {
   "cell_type": "code",
   "execution_count": 12,
   "metadata": {},
   "outputs": [
    {
     "data": {
      "text/plain": [
       "<Author: ملا قاسم>"
      ]
     },
     "execution_count": 12,
     "metadata": {},
     "output_type": "execute_result"
    }
   ],
   "source": [
    "a_sr.author"
   ]
  },
  {
   "cell_type": "code",
   "execution_count": 2,
   "metadata": {},
   "outputs": [],
   "source": [
    "users = Account.objects.all()"
   ]
  },
  {
   "cell_type": "code",
   "execution_count": 3,
   "metadata": {},
   "outputs": [
    {
     "data": {
      "text/plain": [
       "<QuerySet [<Account: Account object (1)>, <Account: Account object (2)>, <Account: Account object (3)>]>"
      ]
     },
     "execution_count": 3,
     "metadata": {},
     "output_type": "execute_result"
    }
   ],
   "source": [
    "users"
   ]
  },
  {
   "cell_type": "code",
   "execution_count": 4,
   "metadata": {},
   "outputs": [
    {
     "data": {
      "text/plain": [
       "'عادل'"
      ]
     },
     "execution_count": 4,
     "metadata": {},
     "output_type": "execute_result"
    }
   ],
   "source": [
    "users[0].name"
   ]
  },
  {
   "cell_type": "code",
   "execution_count": 6,
   "metadata": {},
   "outputs": [],
   "source": [
    "suppliers = Supplier.objects.all()"
   ]
  },
  {
   "cell_type": "code",
   "execution_count": 8,
   "metadata": {},
   "outputs": [],
   "source": [
    "Product().save()"
   ]
  },
  {
   "cell_type": "code",
   "execution_count": 12,
   "metadata": {},
   "outputs": [],
   "source": [
    "product1 = Product.objects.all()[0]"
   ]
  },
  {
   "cell_type": "code",
   "execution_count": 13,
   "metadata": {},
   "outputs": [],
   "source": [
    "product1.name = 'lebas shui'"
   ]
  },
  {
   "cell_type": "code",
   "execution_count": 18,
   "metadata": {},
   "outputs": [],
   "source": [
    "product1.supplier.add(suppliers[0], suppliers[1])"
   ]
  },
  {
   "cell_type": "code",
   "execution_count": 19,
   "metadata": {},
   "outputs": [],
   "source": [
    "product1.save()"
   ]
  },
  {
   "cell_type": "code",
   "execution_count": 24,
   "metadata": {},
   "outputs": [],
   "source": [
    "products = Product.objects.all()"
   ]
  },
  {
   "cell_type": "code",
   "execution_count": 42,
   "metadata": {},
   "outputs": [
    {
     "name": "stdout",
     "output_type": "stream",
     "text": [
      "<QuerySet [<Supplier: Supplier object (1)>, <Supplier: Supplier object (2)>]>\n",
      "عادل\n",
      "صدیقه\n",
      "<QuerySet [<Supplier: Supplier object (1)>]>\n",
      "عادل\n"
     ]
    },
    {
     "data": {
      "text/plain": [
       "{'lebas shui': ['عادل', 'صدیقه'], 'ekhgkeh': ['عادل']}"
      ]
     },
     "execution_count": 42,
     "metadata": {},
     "output_type": "execute_result"
    }
   ],
   "source": [
    "context = {}\n",
    "for el in products:\n",
    "    context[el.name] = []\n",
    "    sup_e = el.supplier.all()\n",
    "    print(sup_e)\n",
    "    for e in sup_e:\n",
    "        print(e.account.name)\n",
    "        context[el.name].append(e.account.name)\n",
    "context"
   ]
  },
  {
   "cell_type": "code",
   "execution_count": 43,
   "metadata": {},
   "outputs": [],
   "source": [
    "qs = Product.objects.prefetch_related('supplier')"
   ]
  },
  {
   "cell_type": "code",
   "execution_count": 39,
   "metadata": {},
   "outputs": [
    {
     "data": {
      "text/plain": [
       "<QuerySet [<Supplier: Supplier object (1)>, <Supplier: Supplier object (2)>]>"
      ]
     },
     "execution_count": 39,
     "metadata": {},
     "output_type": "execute_result"
    }
   ],
   "source": [
    "qs[0].supplier.all()"
   ]
  },
  {
   "cell_type": "code",
   "execution_count": 44,
   "metadata": {},
   "outputs": [
    {
     "data": {
      "text/plain": [
       "<QuerySet [<User: Mohsen>, <User: Mahdi>, <User: 1234569865>, <User: 12345698>, <User: 12345>, <User: admin>]>"
      ]
     },
     "execution_count": 44,
     "metadata": {},
     "output_type": "execute_result"
    }
   ],
   "source": [
    "User.objects.all()"
   ]
  },
  {
   "cell_type": "code",
   "execution_count": 56,
   "metadata": {},
   "outputs": [],
   "source": [
    "def comma_seperator(value):\n",
    "    temp = []\n",
    "\n",
    "    while True:\n",
    "        temp.append(str(value % 1000))\n",
    "        value //= 1000\n",
    "        if not value:\n",
    "            break\n",
    "    temp = temp[::-1]\n",
    "    sep = ','\n",
    "    res = sep.join(temp)\n",
    "    return res"
   ]
  },
  {
   "cell_type": "code",
   "execution_count": 57,
   "metadata": {},
   "outputs": [
    {
     "data": {
      "text/plain": [
       "'15,265,325,574,654,756,454'"
      ]
     },
     "execution_count": 57,
     "metadata": {},
     "output_type": "execute_result"
    }
   ],
   "source": [
    "comma_seperator(15265325574654756454)"
   ]
  },
  {
   "cell_type": "code",
   "execution_count": 7,
   "metadata": {},
   "outputs": [
    {
     "name": "stdout",
     "output_type": "stream",
     "text": [
      "SELECT \"restaurant_food\".\"id\", \"restaurant_food\".\"name\", \"restaurant_food\".\"description\", \"restaurant_food\".\"price\", \"restaurant_food\".\"status\", \"restaurant_food\".\"rate\", \"restaurant_food\".\"poster\", \"restaurant_food\".\"cat_manu_id\" FROM \"restaurant_food\" INNER JOIN \"restaurant_menucat\" ON (\"restaurant_food\".\"cat_manu_id\" = \"restaurant_menucat\".\"id\") INNER JOIN \"element\" ON (\"restaurant_menucat\".\"element_id\" = \"element\".\"id\") INNER JOIN \"restaurant_elementaddress\" ON (\"element\".\"id\" = \"restaurant_elementaddress\".\"element_id\") INNER JOIN \"geolocation_address\" ON (\"restaurant_elementaddress\".\"address_ptr_id\" = \"geolocation_address\".\"id\") WHERE (\"geolocation_address\".\"city\" = تهران AND \"geolocation_address\".\"street\"::text LIKE %باتان% AND \"element\".\"name\"::text LIKE %بست% AND \"restaurant_food\".\"name\"::text LIKE %سزار%)\n"
     ]
    },
    {
     "data": {
      "text/plain": [
       "<QuerySet [<Food: سزار_ایتالیایی>]>"
      ]
     },
     "execution_count": 7,
     "metadata": {},
     "output_type": "execute_result"
    }
   ],
   "source": [
    "q = Food.objects.filter(name__contains='سزار',cat_manu__element__address__city='تهران', cat_manu__element__name__contains='بست', \n",
    "                        cat_manu__element__address__street__contains='باتان')\n",
    "print(q.query)\n",
    "q"
   ]
  },
  {
   "cell_type": "code",
   "execution_count": 49,
   "metadata": {},
   "outputs": [
    {
     "data": {
      "text/plain": [
       "'restaurant_elementaddress.html'"
      ]
     },
     "execution_count": 49,
     "metadata": {},
     "output_type": "execute_result"
    }
   ],
   "source": [
    "'_'.join(str(ElementAddress._meta).split('.')) + '.html'"
   ]
  },
  {
   "cell_type": "code",
   "execution_count": 50,
   "metadata": {},
   "outputs": [
    {
     "data": {
      "text/plain": [
       "'element'"
      ]
     },
     "execution_count": 50,
     "metadata": {},
     "output_type": "execute_result"
    }
   ],
   "source": [
    "Element._meta.model_name"
   ]
  },
  {
   "cell_type": "code",
   "execution_count": 12,
   "metadata": {},
   "outputs": [],
   "source": [
    "q = Element.objects.annotate(min_price = Min('price'))"
   ]
  },
  {
   "cell_type": "code",
   "execution_count": 14,
   "metadata": {},
   "outputs": [
    {
     "data": {
      "text/plain": [
       "20000"
      ]
     },
     "execution_count": 14,
     "metadata": {},
     "output_type": "execute_result"
    }
   ],
   "source": [
    "q[1].min_price"
   ]
  },
  {
   "cell_type": "code",
   "execution_count": 21,
   "metadata": {},
   "outputs": [],
   "source": [
    "from django.db.models import Q\n",
    "\n",
    "e = Element.objects.filter(Q(name__contains='ب') | Q(menu_cat__food__name__contains='شلغم')).distinct()\n",
    "\n",
    "q = Element.objects.aggregate(min_price=Min('menu_cat__food__price'))"
   ]
  },
  {
   "cell_type": "code",
   "execution_count": 22,
   "metadata": {},
   "outputs": [
    {
     "data": {
      "text/plain": [
       "{'min_price': 12500}"
      ]
     },
     "execution_count": 22,
     "metadata": {},
     "output_type": "execute_result"
    }
   ],
   "source": [
    "q"
   ]
  },
  {
   "cell_type": "code",
   "execution_count": 23,
   "metadata": {},
   "outputs": [
    {
     "data": {
      "text/plain": [
       "<QuerySet [<Element: 1- باروژ>, <Element: 2- برگر لند>, <Element: 3- آبمیوه بستنی منگو>]>"
      ]
     },
     "execution_count": 23,
     "metadata": {},
     "output_type": "execute_result"
    }
   ],
   "source": [
    "e"
   ]
  },
  {
   "cell_type": "code",
   "execution_count": 26,
   "metadata": {},
   "outputs": [
    {
     "name": "stdout",
     "output_type": "stream",
     "text": [
      "SELECT \"element\".\"id\", \"element\".\"category_id\", \"element\".\"sub_category_id\", \"element\".\"name\", \"element\".\"rate\", \"element\".\"descriptions\", \"element\".\"slug\" FROM \"element\" WHERE \"element\".\"name\"::text LIKE %%\n"
     ]
    }
   ],
   "source": [
    "print(Element.objects.filter(name__contains='').query)"
   ]
  },
  {
   "cell_type": "code",
   "execution_count": 1,
   "metadata": {},
   "outputs": [],
   "source": [
    "User = get_user_model()\n",
    "q = User.objects.all()"
   ]
  },
  {
   "cell_type": "code",
   "execution_count": 21,
   "metadata": {},
   "outputs": [
    {
     "data": {
      "text/plain": [
       "<QuerySet [<User: ashkan@test.com>, <User: as@s.com>, <User: asf@test.com>, <User: asf@sfew.com>, <User: a@a.com>, <User: a@ty.com>, <User: aaa@aaa.com>, <User: admin@admin.com>, <User: ashkan@a.com>, <User: as@as.com>, <User: asd@asd.com>, <User: mohsen@test.com>, <User: admin@adn.com>, <User: alireza@abadan.com>]>"
      ]
     },
     "execution_count": 21,
     "metadata": {},
     "output_type": "execute_result"
    }
   ],
   "source": [
    "q"
   ]
  },
  {
   "cell_type": "code",
   "execution_count": 24,
   "metadata": {},
   "outputs": [
    {
     "data": {
      "text/plain": [
       "True"
      ]
     },
     "execution_count": 24,
     "metadata": {},
     "output_type": "execute_result"
    }
   ],
   "source": [
    "q[13].has_perm('user_profile.can_dance')"
   ]
  },
  {
   "cell_type": "code",
   "execution_count": 11,
   "metadata": {},
   "outputs": [],
   "source": [
    "from user_profile.models import Profile\n",
    "from django.contrib.auth.models import Permission\n",
    "from django.contrib.contenttypes.models import ContentType\n",
    "\n",
    "content_type = ContentType.objects.get_for_model(Profile)\n",
    "permission = Permission.objects.create(\n",
    "    codename='can_dance',\n",
    "    name='Can Dance in Public',\n",
    "    content_type=content_type,\n",
    ")\n"
   ]
  },
  {
   "cell_type": "code",
   "execution_count": 9,
   "metadata": {},
   "outputs": [],
   "source": [
    "food1 = Food.objects.all()[0]"
   ]
  },
  {
   "cell_type": "code",
   "execution_count": 4,
   "metadata": {},
   "outputs": [],
   "source": [
    "user1 = User.objects.all()[0]"
   ]
  },
  {
   "cell_type": "code",
   "execution_count": 3,
   "metadata": {},
   "outputs": [],
   "source": [
    "from order.models import Cart, CartItems"
   ]
  },
  {
   "cell_type": "code",
   "execution_count": 14,
   "metadata": {},
   "outputs": [],
   "source": [
    "cart = Cart.objects.get_or_create(user=user1)"
   ]
  },
  {
   "cell_type": "code",
   "execution_count": 21,
   "metadata": {},
   "outputs": [
    {
     "data": {
      "text/plain": [
       "<Cart: ashkan@test.com>"
      ]
     },
     "execution_count": 21,
     "metadata": {},
     "output_type": "execute_result"
    }
   ],
   "source": [
    "cart[0]"
   ]
  },
  {
   "cell_type": "code",
   "execution_count": 28,
   "metadata": {},
   "outputs": [
    {
     "data": {
      "text/plain": [
       "<QuerySet [<Food: چلو خورشت قیمه سیب زمینی_غذای ایرانی>]>"
      ]
     },
     "execution_count": 28,
     "metadata": {},
     "output_type": "execute_result"
    }
   ],
   "source": [
    "cart[0].food.all()"
   ]
  },
  {
   "cell_type": "code",
   "execution_count": 30,
   "metadata": {},
   "outputs": [
    {
     "name": "stdout",
     "output_type": "stream",
     "text": [
      "yes\n"
     ]
    }
   ],
   "source": [
    "if Food.objects.all()[0] in cart[0].food.all():\n",
    "    print('yes')"
   ]
  },
  {
   "cell_type": "code",
   "execution_count": 66,
   "metadata": {},
   "outputs": [],
   "source": [
    "cart = Cart.objects.prefetch_related(Prefetch('food', queryset=CartItems.objects.select_related('cart', 'food')))"
   ]
  },
  {
   "cell_type": "code",
   "execution_count": 69,
   "metadata": {},
   "outputs": [
    {
     "data": {
      "text/plain": [
       "15"
      ]
     },
     "execution_count": 69,
     "metadata": {},
     "output_type": "execute_result"
    }
   ],
   "source": [
    "cart[2].food.all()[0].qty"
   ]
  },
  {
   "cell_type": "code",
   "execution_count": 72,
   "metadata": {},
   "outputs": [],
   "source": [
    "user = User.objects.all()[7]"
   ]
  },
  {
   "cell_type": "code",
   "execution_count": 99,
   "metadata": {},
   "outputs": [],
   "source": [
    "cart = Cart.objects.get(user=user)"
   ]
  },
  {
   "cell_type": "code",
   "execution_count": 100,
   "metadata": {},
   "outputs": [
    {
     "data": {
      "text/plain": [
       "<Cart: admin@admin.com>"
      ]
     },
     "execution_count": 100,
     "metadata": {},
     "output_type": "execute_result"
    }
   ],
   "source": [
    "cart"
   ]
  },
  {
   "cell_type": "code",
   "execution_count": 106,
   "metadata": {},
   "outputs": [],
   "source": [
    "cart_c = Cart.objects.prefetch_related(Prefetch('food', queryset=CartItems.objects.select_related('food'))).get(user=user)"
   ]
  },
  {
   "cell_type": "code",
   "execution_count": 109,
   "metadata": {},
   "outputs": [
    {
     "data": {
      "text/plain": [
       "<QuerySet [<CartItems: CartItems object (4)>, <CartItems: CartItems object (5)>, <CartItems: CartItems object (6)>, <CartItems: CartItems object (7)>, <CartItems: CartItems object (9)>]>"
      ]
     },
     "execution_count": 109,
     "metadata": {},
     "output_type": "execute_result"
    }
   ],
   "source": [
    "cart_c.food.all()"
   ]
  },
  {
   "cell_type": "code",
   "execution_count": null,
   "metadata": {},
   "outputs": [],
   "source": []
  }
 ],
 "metadata": {
  "kernelspec": {
   "display_name": "Django Shell-Plus",
   "language": "python",
   "name": "django_extensions"
  },
  "language_info": {
   "codemirror_mode": {
    "name": "ipython",
    "version": 3
   },
   "file_extension": ".py",
   "mimetype": "text/x-python",
   "name": "python",
   "nbconvert_exporter": "python",
   "pygments_lexer": "ipython3",
   "version": "3.8.5"
  }
 },
 "nbformat": 4,
 "nbformat_minor": 4
}
